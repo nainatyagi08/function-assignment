{
 "cells": [
  {
   "cell_type": "markdown",
   "metadata": {},
   "source": [
    "# Theory Questions:"
   ]
  },
  {
   "cell_type": "markdown",
   "metadata": {},
   "source": []
  },
  {
   "cell_type": "markdown",
   "metadata": {},
   "source": [
    "1.  What is the difference between a function and a method in Python?"
   ]
  },
  {
   "cell_type": "markdown",
   "metadata": {},
   "source": [
    "Here are the key differences between a function and a method in Python:\n",
    "\n",
    "1. Definition:\n",
    "Function: A block of reusable code that is independent and can be called by its name. It can be defined using the def keyword.\n",
    "Method: A function that is associated with an object. It is called on an object and is typically defined within a class.\n",
    "\n",
    "\n",
    "2. Invocation:\n",
    "Function: Can be called directly by its name (e.g., my_function()).\n",
    "Method: Must be called on an object or instance of a class (e.g., object.method()).\n",
    "\n",
    "\n",
    "3. Binding:\n",
    "Function: Not bound to any object. It can be called independently of any class or instance.\n",
    "Method: Bound to an object or class. It has access to the object’s attributes and can modify the object’s state.\n",
    "\n",
    "\n",
    "4. Access to Object State:\n",
    "Function: Does not have access to any object's state or instance variables, unless they are passed explicitly.\n",
    "Method: Has access to the object’s state (i.e., instance variables) through the self parameter.\n",
    "\n",
    "\n",
    "5. Type of Usage:\n",
    "Function: Can be either built-in (e.g., print(), len()) or user-defined. It is more general and can be used in a variety of contexts.\n",
    "Method: Used specifically in object-oriented programming (OOP) as part of a class. Methods can be either instance methods, class methods, or static methods.\n"
   ]
  },
  {
   "cell_type": "code",
   "execution_count": null,
   "metadata": {},
   "outputs": [],
   "source": []
  },
  {
   "cell_type": "code",
   "execution_count": null,
   "metadata": {},
   "outputs": [],
   "source": []
  },
  {
   "cell_type": "markdown",
   "metadata": {},
   "source": [
    "2. . Explain the concept of function arguments and parameters in Python."
   ]
  },
  {
   "cell_type": "markdown",
   "metadata": {},
   "source": [
    "In Python, function arguments and parameters are essential concepts that deal with passing data to and from functions.\n",
    "\n",
    "1. Parameters:\n",
    "Definition: Parameters are the variables defined in the function declaration that act as placeholders. They represent the input that the function expects to receive when it is called.\n",
    "Role: Parameters specify what kind of information the function needs to operate. The function uses these parameters as variables in its scope.\n",
    "\n",
    "\n",
    "Example:\n",
    "def greet(name):  # 'name' is a parameter\n",
    "    print(f\"Hello, {name}!\")\n",
    "\n",
    "\n",
    "\n",
    "2. Arguments:\n",
    "Definition: Arguments are the actual values or data you pass to the function when calling it. These values are assigned to the function’s parameters.\n",
    "Role: Arguments provide the actual input that the function will use during its execution.\n",
    "Example:\n",
    "\n",
    "greet(\"Alice\")  # 'Alice' is an argument"
   ]
  },
  {
   "cell_type": "code",
   "execution_count": null,
   "metadata": {},
   "outputs": [],
   "source": []
  },
  {
   "cell_type": "code",
   "execution_count": null,
   "metadata": {},
   "outputs": [],
   "source": []
  },
  {
   "cell_type": "markdown",
   "metadata": {},
   "source": [
    "3. What are the different ways to define and call a function in Python?"
   ]
  },
  {
   "cell_type": "markdown",
   "metadata": {},
   "source": [
    "# Defining a Function in Python - \n",
    "\n",
    "            In Python, there are several ways to define a function, each suited for different use cases. Here are the primary methods:\n",
    "\n",
    "    1.Standard Function Definition:\n",
    "\n",
    "    A standard function is defined using the def keyword, followed by the function name, parentheses for parameters, and a colon. The body of the function is indented beneath it.\n",
    "    Example:\n",
    "\n",
    "    def my_function(param1, param2):\n",
    "       return param1 + param2\n",
    "\n",
    "\n",
    "    2.Lambda Function:\n",
    "\n",
    "        A lambda function is an anonymous function defined using the lambda keyword. It can take any number of arguments but can only have a single expression. Lambda functions are often used for short, throwaway functions.\n",
    "    Example:\n",
    "\n",
    "add = lambda x, y: x + y\n",
    "\n",
    "\n",
    "\n",
    "    3.Nested Functions:\n",
    "\n",
    "    A nested function is defined inside another function. It can access variables from the enclosing function's scope, making it useful for encapsulation and maintaining state.\n",
    "Example:\n",
    "\n",
    "    def outer_function():\n",
    "     def inner_function():\n",
    "            return \"Hello from the inner function!\"\n",
    "            return inner_function()\n",
    "\n",
    "\n",
    "    4.Default Parameter Values:\n",
    "\n",
    "    A function can be defined with default parameter values, allowing arguments to be optional. If no value is provided, the default value is used.\n",
    "    Example:\n",
    "\n",
    "    def greet(name=\"Guest\"):\n",
    "        return f\"Hello, {name}!\"\n",
    "\n",
    "\n",
    "\n",
    "    5.Variable-Length Arguments:\n",
    "\n",
    "    Functions can be defined to accept a variable number of positional (*args) or keyword arguments (**kwargs). This allows for flexibility in the number of arguments passed.\n",
    "    Example:\n",
    "\n",
    "    def my_function(*args, **kwargs):\n",
    "        print(args)\n",
    "        print(kwargs)\n",
    "\n",
    "\n",
    "\n",
    "\n",
    "# Calling a Function in Pythonn\n",
    "\n",
    "\n",
    "\n",
    "In Python, there are several ways to call a function, each suited to different scenarios. Here are the most common methods:\n",
    "\n",
    "    1.Positional Arguments: You can call a function by passing the required arguments in the same order as defined in the function signature.\n",
    "\n",
    "    Example: my_function(arg1, arg2)\n",
    "\n",
    "\n",
    "    \n",
    "    2.Keyword Arguments: You can call a function by explicitly specifying the names of the parameters, allowing you to pass them in any order.\n",
    "\n",
    "    Example: my_function(arg2=value2, arg1=value1)\n",
    "\n",
    "\n",
    "    3.Default Arguments: If a function has default values for parameters, you can call it by omitting those parameters, which will take the default values.\n",
    "\n",
    "    Example: my_function(arg1) if arg2 has a default value.\n",
    "\n",
    "\n",
    "    4.Variable-Length Arguments: Functions can accept a variable number of arguments using *args for non-keyword arguments and **kwargs for keyword arguments.\n",
    "\n",
    "    Example: my_function(*args) or my_function(**kwargs)\n",
    "\n",
    "\n",
    "    5.Lambda Functions: You can create and call anonymous functions using the lambda keyword.\n",
    "\n",
    "    Example: lambda x: x + 1 can be called directly or assigned to a variable."
   ]
  },
  {
   "cell_type": "code",
   "execution_count": null,
   "metadata": {},
   "outputs": [],
   "source": []
  },
  {
   "cell_type": "code",
   "execution_count": null,
   "metadata": {},
   "outputs": [],
   "source": []
  },
  {
   "cell_type": "code",
   "execution_count": null,
   "metadata": {},
   "outputs": [],
   "source": []
  },
  {
   "cell_type": "markdown",
   "metadata": {},
   "source": [
    " 4. What is the purpose of the `return` statement in a Python function?"
   ]
  },
  {
   "cell_type": "markdown",
   "metadata": {},
   "source": [
    "The return statement in Python serves several important purposes within a function. Its primary function is to:\n",
    "\n",
    "1. Send a Value Back to the Caller:\n",
    "The return statement allows a function to pass back a result or value to the part of the program that called it. This is essential for functions that perform calculations, data processing, or any operation where the output is needed outside the function.\n",
    "\n",
    "\n",
    "Example:\n",
    "def add(a, b):\n",
    "    return a + b  # The sum is returned to the caller\n",
    "\n",
    "result = add(3, 4)  # 'result' gets the value 7\n",
    "print(result)  # Output: 7\n",
    "\n",
    "\n",
    "\n",
    "\n",
    "2. End Function Execution:\n",
    "The return statement immediately terminates the function’s execution. Once Python encounters return, it exits the function, even if there is code after the return statement in the function body.\n",
    "\n",
    "\n",
    "Example:\n",
    "def early_return():\n",
    "    print(\"This will print\")\n",
    "    return  # Function execution ends here\n",
    "    print(\"This will not print\")\n",
    "\n",
    "early_return()  # Output: This will print\n",
    "\n",
    "\n",
    "\n",
    "3. Return None by Default:\n",
    "If no value is specified after the return statement (or if the function doesn't include a return statement at all), Python implicitly returns None. This is common in functions that perform actions but don’t need to return a value (e.g., printing, modifying data structures).\n",
    "\n",
    "\n",
    "Example:\n",
    "def greet():\n",
    "    print(\"Hello!\")\n",
    "    return  # Returns None implicitly\n",
    "\n",
    "result = greet()  # result is None\n",
    "print(result)  # Output: None"
   ]
  },
  {
   "cell_type": "code",
   "execution_count": null,
   "metadata": {},
   "outputs": [],
   "source": []
  },
  {
   "cell_type": "code",
   "execution_count": null,
   "metadata": {},
   "outputs": [],
   "source": []
  },
  {
   "cell_type": "markdown",
   "metadata": {},
   "source": [
    "5. What are iterators in Python and how do they differ from iterables?"
   ]
  },
  {
   "cell_type": "markdown",
   "metadata": {},
   "source": [
    "In Python, an iterator is an object that allows you to traverse through a collection (like lists, tuples, dictionaries, etc.) one element at a time. Iterators follow the iterator protocol, which consists of two methods:\n",
    "\n",
    "__iter__(): Returns the iterator object itself.\n",
    "__next__(): Returns the next item from the collection, and raises a StopIteration exception when there are no more items.\n",
    "\n",
    "\n",
    "Example of an Iterator:\n",
    "# Create an iterator from a list\n",
    "my_list = [1, 2, 3]\n",
    "my_iterator = iter(my_list)  # Obtain an iterator from the list\n",
    "\n",
    "print(next(my_iterator))  # Output: 1\n",
    "print(next(my_iterator))  # Output: 2\n",
    "print(next(my_iterator))  # Output: 3\n",
    "# next(my_iterator)  # Raises StopIteration, as there are no more elements\n",
    "\n",
    "\n",
    "2. What Are Iterables in Python?\n",
    "An iterable is any Python object capable of returning an iterator. It is an object that contains a collection of items and can be looped over (like lists, tuples, dictionaries, strings, etc.). To be an iterable, the object must implement the __iter__() method, which returns an iterator.\n",
    "\n",
    "Example of an Iterable:\n",
    "# A list is an iterable\n",
    "my_list = [1, 2, 3]\n",
    "\n",
    "# You can directly use an iterable in a for loop\n",
    "for item in my_list:\n",
    "    print(item)\n",
    "\n",
    "\n",
    "\n",
    "\n",
    " Key Differences Between Iterators and Iterables:\n",
    "\n",
    " 1.Defination\n",
    "  Iterator - An object that implements both __iter__() and __next__() methods.\n",
    "\n",
    "  Iterables - An object that can return an iterator (via the ation -__iter__() method).\n",
    "\n",
    "2.Usage \n",
    "    Iterator - Used to fetch one item at a time with next()\n",
    "\n",
    "    Iterables -Used as the source from which an iterator can be obtained using iter().\n",
    "\n",
    "3. Creation \n",
    "    Iterables - Created by calling iter() on an iterable.\n",
    "\n",
    "    Iterator - Includes any object that has an __iter__() method, such as lists, tuples, etc.\n",
    "\n",
    "4.Example \n",
    "    Iterables - Objects like iterators created using iter().\n",
    "\n",
    "    Iterator - Lists, tuples, dictionaries, strings, generators, etc.\n",
    "\n",
    "\n",
    "\n"
   ]
  },
  {
   "cell_type": "code",
   "execution_count": null,
   "metadata": {},
   "outputs": [],
   "source": []
  },
  {
   "cell_type": "code",
   "execution_count": null,
   "metadata": {},
   "outputs": [],
   "source": []
  },
  {
   "cell_type": "code",
   "execution_count": null,
   "metadata": {},
   "outputs": [],
   "source": [
    "6.Explain the concept of generators in Python and how they are defined.\n",
    "\n"
   ]
  },
  {
   "cell_type": "markdown",
   "metadata": {},
   "source": [
    "Generators in Python are a special type of iterator that allows you to create an iterable sequence of values using a function. They provide a convenient way to work with large data sets without loading all the data into memory at once, which makes them memory-efficient.\n",
    "\n",
    "KEY Features of Generators:\n",
    "\n",
    "1. Lazy Evaluation: Generators yield values one at a time and only when required, which saves memory and processing time.\n",
    "\n",
    "2.Stateful: They maintain their state between iterations, meaning they can remember their last execution point.\n",
    "\n",
    "3.Easier Syntax: Generators are defined using a simple syntax, making them easier to write and read compared to traditional iterator classes.\n",
    "\n",
    "\n",
    "\n",
    "How Generators Are Defined:\n",
    "Generators can be defined in two ways:\n",
    "\n",
    "1.Using Generator Functions:\n",
    "\n",
    "A generator function is defined like a regular function but uses the yield statement instead of return.\n",
    "Each time the yield statement is encountered, the function's state is saved, and the yielded value is returned to the caller.\n",
    "When the function is called again, it resumes execution from the last yield statement.\n",
    "\n",
    "2.Using Generator Expressions:\n",
    "\n",
    "A generator expression is a more concise way to create a generator. It is similar to a list comprehension but uses parentheses instead of square brackets.\n",
    "It is often used for creating simple generators in a single line of code."
   ]
  },
  {
   "cell_type": "code",
   "execution_count": null,
   "metadata": {},
   "outputs": [],
   "source": []
  },
  {
   "cell_type": "code",
   "execution_count": null,
   "metadata": {},
   "outputs": [],
   "source": []
  },
  {
   "cell_type": "markdown",
   "metadata": {},
   "source": [
    "7.What are the advantages of using generators over regular functions?"
   ]
  },
  {
   "cell_type": "markdown",
   "metadata": {},
   "source": [
    "Using generators over regular functions offers several advantages, making them a valuable tool in Python programming. Here are some key benefits:\n",
    "\n",
    "1. Memory Efficiency\n",
    "Generators are particularly useful for handling large datasets or sequences because they yield items one at a time rather than returning an entire list or collection. This means they consume less memory, as they do not store all values in memory at once. For example, when reading a large file, a generator can yield one line at a time, allowing you to process data without loading the entire file into memory.\n",
    "\n",
    "2. Improved Performance\n",
    "Since generators produce values on-the-fly, they can be more efficient than regular functions that return large collections. This can lead to faster execution times, especially when you only need a few items from a potentially infinite or very large sequence. Generators eliminate the overhead of creating and storing large lists, which can speed up your program.\n",
    "\n",
    "3. Lazy Evaluation\n",
    "Generators utilize lazy evaluation, meaning that they compute values only when needed. This behavior allows for the processing of data in a more controlled manner, enabling you to work with data as it becomes available, rather than waiting for an entire computation to complete. This is particularly advantageous in scenarios where the total size of the data is unknown or when only a subset of the data is required.\n",
    "\n",
    "4. Simpler and Cleaner Code\n",
    "Using generators can lead to cleaner and more readable code. They allow for straightforward implementation of complex iteration patterns without needing to manage state variables explicitly. The syntax is often more concise compared to traditional iterator classes, resulting in code that is easier to understand and maintain.\n",
    "\n",
    "5. Infinite Sequences\n",
    "Generators can easily represent infinite sequences, such as counting numbers or generating an infinite series. Regular functions typically cannot handle such cases because they would need to return a complete list, which is impractical for infinite data. Generators, on the other hand, can yield values indefinitely, making them ideal for situations where the total number of outputs is not predetermined."
   ]
  },
  {
   "cell_type": "code",
   "execution_count": null,
   "metadata": {},
   "outputs": [],
   "source": []
  },
  {
   "cell_type": "code",
   "execution_count": null,
   "metadata": {},
   "outputs": [],
   "source": []
  },
  {
   "cell_type": "markdown",
   "metadata": {},
   "source": [
    "8. What is a lambda function in Python and when is it typically used?"
   ]
  },
  {
   "cell_type": "markdown",
   "metadata": {},
   "source": [
    "A lambda function in Python is a small, anonymous function defined using the lambda keyword. It can take any number of arguments but can only have one expression, which is evaluated and returned. Lambda functions are typically used for short, throwaway functions that are not reused elsewhere in the code, such as in functional programming constructs like map(), filter(), and sorted().\n",
    "\n",
    "Example:\n",
    "Using a lambda function to square a number\n",
    "square = lambda x: x ** 2\n",
    "print(square(5))  # Output: 25"
   ]
  },
  {
   "cell_type": "code",
   "execution_count": null,
   "metadata": {},
   "outputs": [],
   "source": []
  },
  {
   "cell_type": "code",
   "execution_count": null,
   "metadata": {},
   "outputs": [],
   "source": []
  },
  {
   "cell_type": "markdown",
   "metadata": {},
   "source": [
    " 9.Explain the purpose and usage of the `map()` function in Python"
   ]
  },
  {
   "cell_type": "markdown",
   "metadata": {},
   "source": [
    "The map() function in Python is used to apply a specified function to all items in an iterable (like a list or tuple) and returns an iterator of the results. It is particularly useful for transforming data without the need for explicit loops. map() takes two arguments: the function to apply and the iterable.\n",
    "\n",
    "Example:\n",
    "\n",
    " Using map() to double the values in a list\n",
    "numbers = [1, 2, 3, 4]\n",
    "doubled = list(map(lambda x: x * 2, numbers))\n",
    "print(doubled)  # Output: [2, 4, 6, 8]"
   ]
  },
  {
   "cell_type": "code",
   "execution_count": null,
   "metadata": {},
   "outputs": [],
   "source": []
  },
  {
   "cell_type": "code",
   "execution_count": null,
   "metadata": {},
   "outputs": [],
   "source": []
  },
  {
   "cell_type": "markdown",
   "metadata": {},
   "source": [
    "10.  What is the difference between `map()`, `reduce()`, and `filter()` functions in Python?"
   ]
  },
  {
   "cell_type": "markdown",
   "metadata": {},
   "source": [
    "The map(), reduce(), and filter() functions in Python are all higher-order functions that operate on iterables, but they serve different purposes and have distinct behaviors:\n",
    "\n",
    "1. map()\n",
    "Purpose: Applies a given function to each item in an iterable (like a list or tuple) and returns an iterator of the results.\n",
    "Usage: Used for transforming data by applying a function to all elements.\n",
    "Return Type: An iterator that produces the transformed items.\n",
    "\n",
    "\n",
    "Example:\n",
    "numbers = [1, 2, 3]\n",
    "squared = list(map(lambda x: x ** 2, numbers))  # Output: [1, 4, 9]\n",
    "\n",
    "\n",
    "2. filter()\n",
    "Purpose: Applies a function to each item in an iterable and returns an iterator containing only the items for which the function returns True.\n",
    "Usage: Used for filtering out unwanted elements from a collection based on a condition.\n",
    "Return Type: An iterator that contains only the elements that pass the filtering criteria.\n",
    "Example:\n",
    "numbers = [1, 2, 3, 4, 5]\n",
    "even_numbers = list(filter(lambda x: x % 2 == 0, numbers))  # Output: [2, 4]\n",
    "\n",
    "\n",
    "\n",
    "3. reduce()\n",
    "Purpose: Applies a specified function cumulatively to the items of an iterable, reducing it to a single accumulated value.\n",
    "Usage: Used for aggregating data, such as summing values or calculating products.\n",
    "Return Type: A single value (not an iterable).\n",
    "\n",
    "\n",
    "Example:\n",
    "from functools import reduce\n",
    "\n",
    "numbers = [1, 2, 3, 4]\n",
    "product = reduce(lambda x, y: x * y, numbers)  # Output"
   ]
  },
  {
   "cell_type": "code",
   "execution_count": null,
   "metadata": {},
   "outputs": [],
   "source": []
  },
  {
   "cell_type": "code",
   "execution_count": null,
   "metadata": {},
   "outputs": [],
   "source": []
  },
  {
   "cell_type": "markdown",
   "metadata": {},
   "source": [
    "11. Using pen & Paper write the internal mechanism for sum operation using  reduce function on this given\n",
    "list:[47,11,42,13];"
   ]
  },
  {
   "cell_type": "markdown",
   "metadata": {},
   "source": [
    "To understand the internal mechanism of the sum operation using the reduce() function on the list [47, 11, 42, 13], we need to break down how reduce() works and how it applies a function cumulatively to the elements of the list.\n",
    "\n",
    "# Internal Mechanism of reduce()\n",
    "\n",
    "\n",
    "    1.Initialization: The reduce() function starts with the first two elements of the iterable and applies the specified function to them.\n",
    "\n",
    "\n",
    "    2.Cumulative Application: The result of this application is then used as the first argument for the next call to the function, along with the next element in the iterable. This process continues until all elements in the iterable have been processed.\n",
    "\n",
    "    3.Final Result: The final output is the accumulated value after applying the function to all elements.\n",
    "\n",
    "\n",
    " # Example of Sum Operation Using reduce()\n",
    "Here’s how you can compute the sum of the list [47, 11, 42, 13] using the reduce() function from the functools module:\n",
    "\n",
    "from functools import reduce\n",
    "\n",
    "# The list to sum\n",
    "numbers = [47, 11, 42, 13]\n",
    "\n",
    "# The function that will be used by reduce to sum two numbers\n",
    "def add(x, y):\n",
    "    return x + y\n",
    "\n",
    "# Applying reduce to sum the numbers\n",
    "result = reduce(add, numbers)\n",
    "print(result)  # Output: 113\n",
    "\n",
    "\n",
    "Step-by-Step Breakdown\n",
    "Let’s illustrate how reduce() works internally with the add function:\n",
    "\n",
    "First Call:\n",
    "    Input: add(47, 11)\n",
    "    Calculation: 47 + 11 = 58\n",
    "    Intermediate Result: 58\n",
    "\n",
    "\n",
    "Second Call:\n",
    "    Input: add(58, 42)\n",
    "    Calculation: 58 + 42 = 100\n",
    "    Intermediate Result: 100\n",
    "\n",
    "\n",
    "Third Call:\n",
    "    Input: add(100, 13)\n",
    "    Calculation: 100 + 13 = 113\n",
    "    Final Result: 113"
   ]
  },
  {
   "cell_type": "code",
   "execution_count": null,
   "metadata": {},
   "outputs": [],
   "source": []
  },
  {
   "cell_type": "code",
   "execution_count": 1,
   "metadata": {},
   "outputs": [],
   "source": [
    "s"
   ]
  },
  {
   "cell_type": "markdown",
   "metadata": {},
   "source": [
    "# practical Questions:"
   ]
  },
  {
   "cell_type": "code",
   "execution_count": 1,
   "metadata": {},
   "outputs": [],
   "source": [
    "# 1. Write a Python function that takes a list of numbers as input and returns the sum of all even numbers in the list.\n"
   ]
  },
  {
   "cell_type": "code",
   "execution_count": 2,
   "metadata": {},
   "outputs": [
    {
     "data": {
      "text/plain": [
       "18"
      ]
     },
     "execution_count": 2,
     "metadata": {},
     "output_type": "execute_result"
    }
   ],
   "source": [
    "#method 1\n",
    "def sum_func(x):\n",
    "    return sum([i for i in x if i %2==0])\n",
    "\n",
    "x=[1,4,5,6,7,8]\n",
    "\n",
    "sum_func(x)\n"
   ]
  },
  {
   "cell_type": "code",
   "execution_count": 3,
   "metadata": {},
   "outputs": [
    {
     "data": {
      "text/plain": [
       "20"
      ]
     },
     "execution_count": 3,
     "metadata": {},
     "output_type": "execute_result"
    }
   ],
   "source": [
    "#method 2\n",
    "\n",
    "def sum_func1(nums):\n",
    "    l=[]\n",
    "    for i in nums:\n",
    "        if i %2==0:\n",
    "            l.append(i)\n",
    "    return sum(l)\n",
    "\n",
    "nums =[1,2,3,4,5,6,7,8]\n",
    "\n",
    "sum_func1(nums)\n"
   ]
  },
  {
   "cell_type": "markdown",
   "metadata": {},
   "source": [
    "Q2  Create a Python function that accepts a string and returns the reverse of that string"
   ]
  },
  {
   "cell_type": "code",
   "execution_count": 4,
   "metadata": {},
   "outputs": [
    {
     "data": {
      "text/plain": [
       "'nama'"
      ]
     },
     "execution_count": 4,
     "metadata": {},
     "output_type": "execute_result"
    }
   ],
   "source": [
    "def rev_str(s):\n",
    "    return s[::-1]\n",
    "\n",
    "s=input(\"enter the word\")\n",
    "\n",
    "rev_str(s)\n",
    "\n"
   ]
  },
  {
   "cell_type": "markdown",
   "metadata": {},
   "source": [
    "Q3 3. Implement a Python function that takes a list of integers and returns a new list containing the squares of\n",
    "each number"
   ]
  },
  {
   "cell_type": "markdown",
   "metadata": {},
   "source": []
  },
  {
   "cell_type": "markdown",
   "metadata": {},
   "source": []
  },
  {
   "cell_type": "code",
   "execution_count": 5,
   "metadata": {},
   "outputs": [
    {
     "data": {
      "text/plain": [
       "[1, 4, 4, 9, 16, 36]"
      ]
     },
     "execution_count": 5,
     "metadata": {},
     "output_type": "execute_result"
    }
   ],
   "source": [
    "def sqaure_list(x):\n",
    " \n",
    "\n",
    "    return [i**2  for i in x ]\n",
    "x=[1,2,2,3,4,6]\n",
    "sqaure_list(x)"
   ]
  },
  {
   "cell_type": "code",
   "execution_count": 6,
   "metadata": {},
   "outputs": [
    {
     "data": {
      "text/plain": [
       "[1, 4, 9, 16]"
      ]
     },
     "execution_count": 6,
     "metadata": {},
     "output_type": "execute_result"
    }
   ],
   "source": [
    "def square_numbers(nums):\n",
    "    return [num ** 2 for num in nums]\n",
    "\n",
    "nums=[1,2,3,4]\n",
    "\n",
    "square_numbers(nums)"
   ]
  },
  {
   "cell_type": "code",
   "execution_count": 7,
   "metadata": {},
   "outputs": [
    {
     "data": {
      "text/plain": [
       "[1, 4, 9, 25, 49]"
      ]
     },
     "execution_count": 7,
     "metadata": {},
     "output_type": "execute_result"
    }
   ],
   "source": [
    "def squared(x):\n",
    "    l=[]\n",
    "    for i in x:\n",
    "        l.append(i**2)\n",
    "    \n",
    "    return l\n",
    "x=[1,2,3,5,7]\n",
    "squared(x)\n"
   ]
  },
  {
   "cell_type": "markdown",
   "metadata": {},
   "source": [
    "Q4  Write a Python function that checks if a given number is prime or not from 1 to 200."
   ]
  },
  {
   "cell_type": "code",
   "execution_count": 8,
   "metadata": {},
   "outputs": [
    {
     "name": "stdout",
     "output_type": "stream",
     "text": [
      "2 is prime number\n",
      "3 is prime number\n",
      "5 is prime number\n",
      "7 is prime number\n",
      "11 is prime number\n",
      "13 is prime number\n",
      "17 is prime number\n",
      "19 is prime number\n",
      "23 is prime number\n",
      "29 is prime number\n",
      "31 is prime number\n",
      "37 is prime number\n",
      "41 is prime number\n",
      "43 is prime number\n",
      "47 is prime number\n",
      "53 is prime number\n",
      "59 is prime number\n",
      "61 is prime number\n",
      "67 is prime number\n",
      "71 is prime number\n",
      "73 is prime number\n",
      "79 is prime number\n",
      "83 is prime number\n",
      "89 is prime number\n",
      "97 is prime number\n",
      "101 is prime number\n",
      "103 is prime number\n",
      "107 is prime number\n",
      "109 is prime number\n",
      "113 is prime number\n",
      "127 is prime number\n",
      "131 is prime number\n",
      "137 is prime number\n",
      "139 is prime number\n",
      "149 is prime number\n",
      "151 is prime number\n",
      "157 is prime number\n",
      "163 is prime number\n",
      "167 is prime number\n",
      "173 is prime number\n",
      "179 is prime number\n",
      "181 is prime number\n",
      "191 is prime number\n",
      "193 is prime number\n",
      "197 is prime number\n",
      "199 is prime number\n"
     ]
    }
   ],
   "source": [
    "def check_prime(n):\n",
    "\n",
    "    if n <2:\n",
    "        return False\n",
    "    for i in range(2,int(n**0.5)+1):\n",
    "        if n % i==0:\n",
    "            return False\n",
    "    return True\n",
    "\n",
    "\n",
    "for j in range(1,201):\n",
    "    if check_prime(j):\n",
    "        print(j,\"is prime number\")"
   ]
  },
  {
   "cell_type": "code",
   "execution_count": 9,
   "metadata": {},
   "outputs": [],
   "source": [
    "def check_prime(x):\n",
    "    if x < 2:\n",
    "        return False \n",
    "    for i in range(2,int(x**0.5)+1):\n",
    "        if x % i ==0:\n",
    "            return False\n",
    "        \n",
    "    else:\n",
    "        return True    \n"
   ]
  },
  {
   "cell_type": "code",
   "execution_count": 10,
   "metadata": {},
   "outputs": [
    {
     "data": {
      "text/plain": [
       "False"
      ]
     },
     "execution_count": 10,
     "metadata": {},
     "output_type": "execute_result"
    }
   ],
   "source": [
    "check_prime(21)"
   ]
  },
  {
   "cell_type": "markdown",
   "metadata": {},
   "source": [
    "5. Create an iterator class in Python that generates the Fibonacci sequence up to a specified number of\n",
    "terms"
   ]
  },
  {
   "cell_type": "code",
   "execution_count": 11,
   "metadata": {},
   "outputs": [
    {
     "data": {
      "text/plain": [
       "<generator object fib at 0x000001962F4A66B0>"
      ]
     },
     "execution_count": 11,
     "metadata": {},
     "output_type": "execute_result"
    }
   ],
   "source": [
    "def fib(n):\n",
    "    a=0\n",
    "    b=1\n",
    "    for i in range(n):\n",
    "        yield a\n",
    "        a,b = b,a+b\n",
    "\n",
    "fib(10)        "
   ]
  },
  {
   "cell_type": "code",
   "execution_count": 12,
   "metadata": {},
   "outputs": [
    {
     "data": {
      "text/plain": [
       "0"
      ]
     },
     "execution_count": 12,
     "metadata": {},
     "output_type": "execute_result"
    }
   ],
   "source": [
    "a=fib(10)\n",
    "\n",
    "next(a)"
   ]
  },
  {
   "cell_type": "markdown",
   "metadata": {},
   "source": [
    "6. Write a generator function in Python that yields the powers of 2 up to a given exponent."
   ]
  },
  {
   "cell_type": "code",
   "execution_count": 13,
   "metadata": {},
   "outputs": [],
   "source": [
    "def power(n):\n",
    "    for i in range(n+1):\n",
    "\n",
    "        yield i**2"
   ]
  },
  {
   "cell_type": "code",
   "execution_count": 14,
   "metadata": {},
   "outputs": [],
   "source": [
    "p=power(3)"
   ]
  },
  {
   "cell_type": "code",
   "execution_count": 15,
   "metadata": {},
   "outputs": [],
   "source": [
    "def while_p(n):\n",
    "    a=0\n",
    "\n",
    "    while a <= n:\n",
    "        yield 2**a\n",
    "        a +=1\n",
    "\n",
    "\n"
   ]
  },
  {
   "cell_type": "code",
   "execution_count": 16,
   "metadata": {},
   "outputs": [],
   "source": [
    "r=while_p(4)"
   ]
  },
  {
   "cell_type": "code",
   "execution_count": 17,
   "metadata": {},
   "outputs": [
    {
     "data": {
      "text/plain": [
       "1"
      ]
     },
     "execution_count": 17,
     "metadata": {},
     "output_type": "execute_result"
    }
   ],
   "source": [
    "next(r)"
   ]
  },
  {
   "cell_type": "markdown",
   "metadata": {},
   "source": [
    "7. Implement a generator function that reads a file line by line and yields each line as a string."
   ]
  },
  {
   "cell_type": "code",
   "execution_count": 8,
   "metadata": {},
   "outputs": [],
   "source": [
    "with open('example.txt',\"w\") as file:\n",
    "    file.write(\"hey there\\n how are you today\\nlets go somewhere\")\n",
    "    file.close()\n"
   ]
  },
  {
   "cell_type": "code",
   "execution_count": 9,
   "metadata": {},
   "outputs": [],
   "source": [
    "def read_lines(file_path):\n",
    "    with open(file_path,\"r\") as file:\n",
    "        for line in file:\n",
    "            yield line.strip()"
   ]
  },
  {
   "cell_type": "code",
   "execution_count": 10,
   "metadata": {},
   "outputs": [
    {
     "name": "stdout",
     "output_type": "stream",
     "text": [
      "hey there\n",
      "how are you today\n",
      "lets go somewhere\n"
     ]
    }
   ],
   "source": [
    "file_path='example.txt'\n",
    "for line in read_lines(file_path):\n",
    "    print(line)"
   ]
  },
  {
   "cell_type": "code",
   "execution_count": null,
   "metadata": {},
   "outputs": [],
   "source": []
  },
  {
   "cell_type": "markdown",
   "metadata": {},
   "source": [
    "8. Use a lambda function in Python to sort a list of tuples based on the second element of each tuple."
   ]
  },
  {
   "cell_type": "code",
   "execution_count": 9,
   "metadata": {},
   "outputs": [
    {
     "data": {
      "text/plain": [
       "list"
      ]
     },
     "execution_count": 9,
     "metadata": {},
     "output_type": "execute_result"
    }
   ],
   "source": [
    "t_list=[(4,6),(1,3),(5,1),(2,1)]\n",
    "\n",
    "type(t_list)"
   ]
  },
  {
   "cell_type": "code",
   "execution_count": 10,
   "metadata": {},
   "outputs": [
    {
     "data": {
      "text/plain": [
       "[(4, 6), (1, 3), (5, 1), (2, 1)]"
      ]
     },
     "execution_count": 10,
     "metadata": {},
     "output_type": "execute_result"
    }
   ],
   "source": [
    "t_list"
   ]
  },
  {
   "cell_type": "code",
   "execution_count": 18,
   "metadata": {},
   "outputs": [],
   "source": [
    "sorted_list = sorted(t_list, key=lambda x:x[1])"
   ]
  },
  {
   "cell_type": "code",
   "execution_count": 19,
   "metadata": {},
   "outputs": [
    {
     "data": {
      "text/plain": [
       "[(5, 1), (2, 1), (1, 3), (4, 6)]"
      ]
     },
     "execution_count": 19,
     "metadata": {},
     "output_type": "execute_result"
    }
   ],
   "source": [
    "sorted_list"
   ]
  },
  {
   "cell_type": "markdown",
   "metadata": {},
   "source": [
    "9. Write a Python program that uses `map()` to convert a list of temperatures from Celsius to Fahrenheit."
   ]
  },
  {
   "cell_type": "code",
   "execution_count": 40,
   "metadata": {},
   "outputs": [
    {
     "data": {
      "text/plain": [
       "[68.0, 104.0, 68.0, 125.6]"
      ]
     },
     "execution_count": 40,
     "metadata": {},
     "output_type": "execute_result"
    }
   ],
   "source": [
    "def cel_f(tem):\n",
    "    return tem* 9/5 + 32\n",
    "\n",
    "celcius_to_fahrenheit_list = list(map(cel_f,tem))\n",
    "\n",
    "celcius_to_fahrenheit_list\n",
    "     \n",
    "    \n"
   ]
  },
  {
   "cell_type": "code",
   "execution_count": null,
   "metadata": {},
   "outputs": [],
   "source": []
  },
  {
   "cell_type": "markdown",
   "metadata": {},
   "source": [
    "10 . Create a Python program that uses `filter()` to remove all the vowels from a given string."
   ]
  },
  {
   "cell_type": "markdown",
   "metadata": {},
   "source": []
  },
  {
   "cell_type": "code",
   "execution_count": 56,
   "metadata": {},
   "outputs": [
    {
     "data": {
      "text/plain": [
       "'pwsklls'"
      ]
     },
     "execution_count": 56,
     "metadata": {},
     "output_type": "execute_result"
    }
   ],
   "source": [
    "l=\"pwskills\"\n",
    "def no_vowels(l):\n",
    "    vowels=\"aeiou\"\n",
    "    return \"\".join(filter(lambda x:x not in vowels ,l))\n",
    "\n",
    "\n",
    "no_vowels(l)\n",
    "\n",
    "\n",
    "\n"
   ]
  },
  {
   "cell_type": "markdown",
   "metadata": {},
   "source": [
    "11.Imagine an accounting routine used in a book shop. It works on a list with sublists, which look like this:\n",
    "\n",
    "\n",
    "Order Number\tBook Title and Author\tQuantity\tPrice per Item\n",
    "0\t34587\tLearning python, Mark Lutz\t4\t40.95\n",
    "1\t98762\tProgramming python\t5\t56.80\n",
    "2\t77226\tHeead First python, Paul Barry\t3\t32.95\n",
    "3\t88112\tEinfuhrung in python3, Bernd Klein\t3\t24.99\n",
    "\n",
    "\n",
    "Write a Python program, which returns a list with 2-tuples. Each tuple consists of the order number and the\n",
    "product of the price per item and the quantity. The product should be increased by 10,- € if the value of the\n",
    "order is smaller than 100,00 €.\n",
    "\n",
    "Write a Python program using lambda and map."
   ]
  },
  {
   "cell_type": "code",
   "execution_count": 3,
   "metadata": {},
   "outputs": [],
   "source": [
    "#Order Number\tBook Title and Author\tQuantity\tPrice per Item\n",
    "#0\t34587\tLearning python, Mark Lutz\t4\t40.95\n",
    "#1\t98762\tProgramming python\t5\t56.80\n",
    "#2\t77226\tHeead First python, Paul Barry\t3\t32.95\n",
    "#3\t88112\tEinfuhrung in python3, Bernd Klein\t3\t24.99"
   ]
  },
  {
   "cell_type": "code",
   "execution_count": 43,
   "metadata": {},
   "outputs": [],
   "source": [
    "import pandas as pd"
   ]
  },
  {
   "cell_type": "code",
   "execution_count": 44,
   "metadata": {},
   "outputs": [],
   "source": [
    "df = {\"Order Number\":[34587,98762,77226,88112],\"Book Title and Author\":[\"Learning python, Mark Lutz\",\"Programming python\",\"Heead First python, Paul Barry\",\"Einfuhrung in python3, Bernd Klein\"],\"Quantity\":[4,5,3,3],\"Price per Item\":[40.95,56.80,32.95,24.99]}\n",
    "\n",
    "df1=pd.DataFrame(df)"
   ]
  },
  {
   "cell_type": "code",
   "execution_count": null,
   "metadata": {},
   "outputs": [],
   "source": []
  },
  {
   "cell_type": "code",
   "execution_count": null,
   "metadata": {},
   "outputs": [],
   "source": []
  },
  {
   "cell_type": "code",
   "execution_count": 11,
   "metadata": {},
   "outputs": [
    {
     "data": {
      "text/html": [
       "<div>\n",
       "<style scoped>\n",
       "    .dataframe tbody tr th:only-of-type {\n",
       "        vertical-align: middle;\n",
       "    }\n",
       "\n",
       "    .dataframe tbody tr th {\n",
       "        vertical-align: top;\n",
       "    }\n",
       "\n",
       "    .dataframe thead th {\n",
       "        text-align: right;\n",
       "    }\n",
       "</style>\n",
       "<table border=\"1\" class=\"dataframe\">\n",
       "  <thead>\n",
       "    <tr style=\"text-align: right;\">\n",
       "      <th></th>\n",
       "      <th>Order Number</th>\n",
       "      <th>Book Title and Author</th>\n",
       "      <th>Quantity</th>\n",
       "      <th>Price per Item</th>\n",
       "    </tr>\n",
       "  </thead>\n",
       "  <tbody>\n",
       "    <tr>\n",
       "      <th>0</th>\n",
       "      <td>34587</td>\n",
       "      <td>Learning python, Mark Lutz</td>\n",
       "      <td>4</td>\n",
       "      <td>40.95</td>\n",
       "    </tr>\n",
       "    <tr>\n",
       "      <th>1</th>\n",
       "      <td>98762</td>\n",
       "      <td>Programming python</td>\n",
       "      <td>5</td>\n",
       "      <td>56.80</td>\n",
       "    </tr>\n",
       "    <tr>\n",
       "      <th>2</th>\n",
       "      <td>77226</td>\n",
       "      <td>Heead First python, Paul Barry</td>\n",
       "      <td>3</td>\n",
       "      <td>32.95</td>\n",
       "    </tr>\n",
       "    <tr>\n",
       "      <th>3</th>\n",
       "      <td>88112</td>\n",
       "      <td>Einfuhrung in python3, Bernd Klein</td>\n",
       "      <td>3</td>\n",
       "      <td>24.99</td>\n",
       "    </tr>\n",
       "  </tbody>\n",
       "</table>\n",
       "</div>"
      ],
      "text/plain": [
       "   Order Number               Book Title and Author  Quantity  Price per Item\n",
       "0         34587          Learning python, Mark Lutz         4           40.95\n",
       "1         98762                  Programming python         5           56.80\n",
       "2         77226      Heead First python, Paul Barry         3           32.95\n",
       "3         88112  Einfuhrung in python3, Bernd Klein         3           24.99"
      ]
     },
     "execution_count": 11,
     "metadata": {},
     "output_type": "execute_result"
    }
   ],
   "source": [
    "df1=pd.DataFrame(df)\n",
    "\n",
    "df1"
   ]
  },
  {
   "cell_type": "code",
   "execution_count": 38,
   "metadata": {},
   "outputs": [],
   "source": [
    "def func(df1):\n",
    "    return list(map(lambda x: (x[0], x[3] * x[2] if (x[3] * x[2]) >=100 else x[3] * x[2] +10), df1))"
   ]
  },
  {
   "cell_type": "code",
   "execution_count": 41,
   "metadata": {},
   "outputs": [
    {
     "data": {
      "text/plain": [
       "[(34587, 163.8), (98762, 284.0), (77226, 108.85000000000001), (88112, 84.97)]"
      ]
     },
     "execution_count": 41,
     "metadata": {},
     "output_type": "execute_result"
    }
   ],
   "source": [
    "result =func(df1)\n",
    "result"
   ]
  },
  {
   "cell_type": "code",
   "execution_count": 6,
   "metadata": {},
   "outputs": [],
   "source": []
  },
  {
   "cell_type": "code",
   "execution_count": 14,
   "metadata": {},
   "outputs": [],
   "source": [
    "\n"
   ]
  }
 ],
 "metadata": {
  "kernelspec": {
   "display_name": "Python 3",
   "language": "python",
   "name": "python3"
  },
  "language_info": {
   "codemirror_mode": {
    "name": "ipython",
    "version": 3
   },
   "file_extension": ".py",
   "mimetype": "text/x-python",
   "name": "python",
   "nbconvert_exporter": "python",
   "pygments_lexer": "ipython3",
   "version": "3.11.9"
  }
 },
 "nbformat": 4,
 "nbformat_minor": 2
}
